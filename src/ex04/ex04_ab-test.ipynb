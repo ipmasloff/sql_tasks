{
 "cells": [
  {
   "cell_type": "markdown",
   "id": "9df0b1ee",
   "metadata": {},
   "source": [
    "### Exercise 04 : A/B-testing"
   ]
  },
  {
   "cell_type": "markdown",
   "id": "cdc4edcc",
   "metadata": {},
   "source": [
    "* create a connection to the database using the library sqlite3"
   ]
  },
  {
   "cell_type": "code",
   "execution_count": 1,
   "id": "6415b843",
   "metadata": {},
   "outputs": [],
   "source": [
    "import pandas as pd\n",
    "import sqlite3\n",
    "\n",
    "conn = sqlite3.connect('../data/checking-logs.sqlite')"
   ]
  },
  {
   "cell_type": "markdown",
   "id": "d2f1833f",
   "metadata": {},
   "source": [
    "* using only one query for each of the groups, create two dataframes: test_results\n",
    "and control_results with the columns time and avg_diff and only two rows\n",
    "  * time should have the values: after and before\n",
    "  * avg_diff contains the average delta among all the users for the time period\n",
    "  before each of them made their first visit to the page and afterward\n",
    "  * only take into account the users that have observations before and after"
   ]
  },
  {
   "cell_type": "code",
   "execution_count": 2,
   "id": "1190fb2c",
   "metadata": {},
   "outputs": [
    {
     "data": {
      "text/html": [
       "<div>\n",
       "<style scoped>\n",
       "    .dataframe tbody tr th:only-of-type {\n",
       "        vertical-align: middle;\n",
       "    }\n",
       "\n",
       "    .dataframe tbody tr th {\n",
       "        vertical-align: top;\n",
       "    }\n",
       "\n",
       "    .dataframe thead th {\n",
       "        text-align: right;\n",
       "    }\n",
       "</style>\n",
       "<table border=\"1\" class=\"dataframe\">\n",
       "  <thead>\n",
       "    <tr style=\"text-align: right;\">\n",
       "      <th></th>\n",
       "      <th>time</th>\n",
       "      <th>avg_diff</th>\n",
       "    </tr>\n",
       "  </thead>\n",
       "  <tbody>\n",
       "    <tr>\n",
       "      <th>0</th>\n",
       "      <td>after</td>\n",
       "      <td>-100.178032</td>\n",
       "    </tr>\n",
       "    <tr>\n",
       "      <th>1</th>\n",
       "      <td>before</td>\n",
       "      <td>-66.679398</td>\n",
       "    </tr>\n",
       "  </tbody>\n",
       "</table>\n",
       "</div>"
      ],
      "text/plain": [
       "     time    avg_diff\n",
       "0   after -100.178032\n",
       "1  before  -66.679398"
      ]
     },
     "execution_count": 2,
     "metadata": {},
     "output_type": "execute_result"
    }
   ],
   "source": [
    "# test results\n",
    "query_test = \"\"\"\n",
    "WITH diffs AS (\n",
    "    SELECT \n",
    "        uid,\n",
    "        CASE \n",
    "            WHEN first_commit_ts < first_view_ts THEN 'before'\n",
    "            ELSE 'after'\n",
    "        END AS time,\n",
    "        (julianday(first_commit_ts) - julianday(datetime(d.deadlines, 'unixepoch'))) * 24 AS diff\n",
    "    FROM test t\n",
    "    JOIN deadlines d ON t.labname = d.labs\n",
    "    WHERE t.labname != 'project1'\n",
    "),\n",
    "user_avg AS (\n",
    "    SELECT uid, time, AVG(diff) AS avg_diff\n",
    "    FROM diffs\n",
    "    GROUP BY uid, time\n",
    "),\n",
    "valid_users AS (\n",
    "    SELECT uid\n",
    "    FROM user_avg\n",
    "    GROUP BY uid\n",
    "    HAVING COUNT(DISTINCT time) = 2\n",
    ")\n",
    "SELECT time, AVG(avg_diff) AS avg_diff\n",
    "FROM user_avg\n",
    "WHERE uid IN (SELECT uid FROM valid_users)\n",
    "GROUP BY time\n",
    "ORDER BY time;\n",
    "\"\"\"\n",
    "\n",
    "\n",
    "test_results = pd.read_sql(query_test, conn)\n",
    "test_results"
   ]
  },
  {
   "cell_type": "code",
   "execution_count": 3,
   "id": "5319b874",
   "metadata": {},
   "outputs": [],
   "source": [
    "query_control = \"\"\"\n",
    "WITH avg_view_ts AS (\n",
    "    SELECT AVG(first_view_ts) AS ts FROM test\n",
    "),\n",
    "diffs AS (\n",
    "    SELECT \n",
    "        uid,\n",
    "        CASE \n",
    "            WHEN first_commit_ts < (SELECT ts FROM avg_view_ts) THEN 'before'\n",
    "            ELSE 'after'\n",
    "        END AS time,\n",
    "        (julianday(first_commit_ts) - julianday(datetime(d.deadlines, 'unixepoch'))) * 24 AS diff\n",
    "    FROM control c\n",
    "    JOIN deadlines d ON c.labname = d.labs\n",
    "    WHERE c.labname != 'project1'\n",
    "),\n",
    "user_avg AS (\n",
    "    SELECT uid, time, AVG(diff) AS avg_diff\n",
    "    FROM diffs\n",
    "    GROUP BY uid, time\n",
    ")\n",
    "SELECT time, ROUND(AVG(avg_diff), 4) AS avg_diff\n",
    "FROM user_avg\n",
    "GROUP BY time\n",
    "ORDER BY time;\n",
    "\"\"\"\n",
    "\n",
    "control_results = pd.read_sql(query_control, conn)\n"
   ]
  },
  {
   "cell_type": "code",
   "execution_count": 4,
   "id": "971953f3",
   "metadata": {},
   "outputs": [
    {
     "data": {
      "text/html": [
       "<div>\n",
       "<style scoped>\n",
       "    .dataframe tbody tr th:only-of-type {\n",
       "        vertical-align: middle;\n",
       "    }\n",
       "\n",
       "    .dataframe tbody tr th {\n",
       "        vertical-align: top;\n",
       "    }\n",
       "\n",
       "    .dataframe thead th {\n",
       "        text-align: right;\n",
       "    }\n",
       "</style>\n",
       "<table border=\"1\" class=\"dataframe\">\n",
       "  <thead>\n",
       "    <tr style=\"text-align: right;\">\n",
       "      <th></th>\n",
       "      <th>time</th>\n",
       "      <th>avg_diff</th>\n",
       "    </tr>\n",
       "  </thead>\n",
       "  <tbody>\n",
       "    <tr>\n",
       "      <th>0</th>\n",
       "      <td>after</td>\n",
       "      <td>-91.8034</td>\n",
       "    </tr>\n",
       "  </tbody>\n",
       "</table>\n",
       "</div>"
      ],
      "text/plain": [
       "    time  avg_diff\n",
       "0  after  -91.8034"
      ]
     },
     "execution_count": 4,
     "metadata": {},
     "output_type": "execute_result"
    }
   ],
   "source": [
    "control_results"
   ]
  },
  {
   "cell_type": "code",
   "execution_count": 5,
   "id": "73abe657",
   "metadata": {},
   "outputs": [
    {
     "name": "stdout",
     "output_type": "stream",
     "text": [
      "Результаты для test:\n",
      "     time    avg_diff\n",
      "0   after -100.178032\n",
      "1  before  -66.679398\n",
      "\n",
      "Результаты для control:\n",
      "    time  avg_diff\n",
      "0  after  -91.8034\n"
     ]
    }
   ],
   "source": [
    "print(\"Результаты для test:\")\n",
    "print(test_results)\n",
    "\n",
    "print(\"\\nРезультаты для control:\")\n",
    "print(control_results)"
   ]
  },
  {
   "cell_type": "code",
   "execution_count": 6,
   "id": "aa3e43f3",
   "metadata": {},
   "outputs": [],
   "source": [
    "conn.close()"
   ]
  }
 ],
 "metadata": {
  "kernelspec": {
   "display_name": "base",
   "language": "python",
   "name": "python3"
  },
  "language_info": {
   "codemirror_mode": {
    "name": "ipython",
    "version": 3
   },
   "file_extension": ".py",
   "mimetype": "text/x-python",
   "name": "python",
   "nbconvert_exporter": "python",
   "pygments_lexer": "ipython3",
   "version": "3.12.7"
  }
 },
 "nbformat": 4,
 "nbformat_minor": 5
}
